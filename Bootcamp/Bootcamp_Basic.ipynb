{
 "metadata": {
  "name": "",
  "signature": "sha256:b8906ff81c6a1a90077c2ed8aee4b35089360f7aa3050c77dfeff7cf391e1d82"
 },
 "nbformat": 3,
 "nbformat_minor": 0,
 "worksheets": [
  {
   "cells": [
    {
     "cell_type": "heading",
     "level": 1,
     "metadata": {},
     "source": [
      "Cog-Sci Bootcamp 2015 - iPython Notebook - Intro to Python"
     ]
    },
    {
     "cell_type": "markdown",
     "metadata": {},
     "source": [
      "This is a quick overview of some of the basic features of python. \n",
      "There are many good resources for learning python, and you should check them out if you want more information. \n",
      "- The official Python Website:          https://www.python.org\n",
      "- Offical Tutorial / Beginners Guide:   https://wiki.python.org/moin/BeginnersGuide\n",
      "- Learn Python the Hard Way:            http://learnpythonthehardway.org\n",
      "- Codecademy:                           https://www.codecademy.com/tracks/python\n",
      "\n",
      "Python has an official style guide, called Pep-8. This is how you should write python!\n",
      "- Official Style Guide:                 https://www.python.org/dev/peps/pep-0008/\n",
      "\n",
      "iPython Notebook is \n",
      "- iPython Notebook Website:             https://ipython.org\n",
      "- iPython Notebook Tutorial:            https://ipython.org/ipython-doc/dev/interactive/tutorial.html"
     ]
    },
    {
     "cell_type": "code",
     "collapsed": false,
     "input": [
      "## iPython Notebook magic commands!\n",
      "# iPython notebooks have what it calls 'magic commands', which are predefined functions you can run \n",
      "# The syntax is like running in a shell, and looks like'% command args'\n",
      "\n",
      "# To access some documentation about magic commands from within iPython, use '% quickref'\n",
      "% quickref"
     ],
     "language": "python",
     "metadata": {},
     "outputs": [],
     "prompt_number": 35
    },
    {
     "cell_type": "code",
     "collapsed": false,
     "input": [
      "## Python, whether run from a terminal or in iPython is always running in some directory\n",
      "# iPython defaults to launching in your user home directory\n",
      "# The cd (current directory) command is one of the magic commands, and will print out the current directory. \n",
      "% cd"
     ],
     "language": "python",
     "metadata": {},
     "outputs": [
      {
       "output_type": "stream",
       "stream": "stdout",
       "text": [
        "/Users/thomasdonoghue\n"
       ]
      }
     ],
     "prompt_number": 36
    },
    {
     "cell_type": "code",
     "collapsed": false,
     "input": [
      "## Help in iPython\n",
      "# Another one of the magic commmands is the help command. \n",
      "# This is used by adding a question mark ('?') to end of a function name. \n",
      "# For example: (See if you can now use the round function)\n",
      "round?"
     ],
     "language": "python",
     "metadata": {},
     "outputs": [],
     "prompt_number": 37
    },
    {
     "cell_type": "code",
     "collapsed": false,
     "input": [
      "## Python Types - Basic\n",
      "# Python (like Matlab) is also a non-explicitly typed language. \n",
      "# You can use the type() function to check the type of a variable\n",
      "int_number = 1                 # The integer type is for number without a decimal place (positive or negative)\n",
      "float_number = 1.0             # The float type is for numbers \n",
      "string = 'Hello!'              # The string type is for characters\n",
      "boolean = True                 # Booleans are for True or False\n",
      "\n",
      "print type(int_number)\n",
      "print type(float_number)\n",
      "print type(string)\n",
      "print type(boolean)"
     ],
     "language": "python",
     "metadata": {},
     "outputs": [
      {
       "output_type": "stream",
       "stream": "stdout",
       "text": [
        "<type 'int'>\n",
        "<type 'float'>\n",
        "<type 'str'>\n",
        "<type 'bool'>\n"
       ]
      }
     ],
     "prompt_number": 38
    },
    {
     "cell_type": "code",
     "collapsed": false,
     "input": [
      "# Notice that integers and decimals numbers (floats) are different kinds of variables\n",
      "# Be careful with this, they act differently!\n",
      "print 10/4\n",
      "print 10.0/4"
     ],
     "language": "python",
     "metadata": {},
     "outputs": [
      {
       "output_type": "stream",
       "stream": "stdout",
       "text": [
        "2\n",
        "2.5\n"
       ]
      }
     ],
     "prompt_number": 39
    },
    {
     "cell_type": "code",
     "collapsed": false,
     "input": [
      "# You can also cast variable (force them to be a certain type)\n",
      "cast_float = float(int_number)       # Cast a integer into a float\n",
      "print cast_float\n",
      "cast_int = int(float_number)         # Cast a float into an integer\n",
      "print cast_int\n",
      "cast_boolean = int(boolean)          # Cast a boolean into an integer (remember: False=0, True=1)\n",
      "print cast_boolean"
     ],
     "language": "python",
     "metadata": {},
     "outputs": [
      {
       "output_type": "stream",
       "stream": "stdout",
       "text": [
        "1.0\n",
        "1\n",
        "1\n"
       ]
      }
     ],
     "prompt_number": 40
    },
    {
     "cell_type": "code",
     "collapsed": false,
     "input": [
      "## Other python types\n",
      "# Lists - a list is a mutable list of things, which can be of mixed types\n",
      "# Lists use square brackes\n",
      "list_of_stuff = [1, 6.4, 'Banana', True, 6.]\n",
      "print type(list_of_stuff)\n",
      "print 'List item: ', list_of_stuff[2]\n",
      "\n",
      "# Tuple - a tuple is set of unmutable things, which can be of mixed types\n",
      "# Tuples use parentheses\n",
      "tuple_of_stuff = (1, 6.4, 'Banana', True, 6.)\n",
      "print type(tuple_of_stuff)\n",
      "print 'Tuple item: ', tuple_of_stuff[2]\n",
      "\n",
      "# Dictionary - a dictionary is a set of things, indexed and accessed by keys\n",
      "dictionary_of_stuff = {'delta': 2, 'theta': 6, 'alpha': 8, 'beta': 13, 'gamma': 25}\n",
      "print type(dictionary_of_stuff)\n",
      "# Things in a dictionary are accessed by their key\n",
      "print 'Dictionary element: ', dictionary_of_stuff['delta']\n",
      "# To check the keys of a dict, run the 'keys()' function on a dict, like so:\n",
      "print 'Dictionary Keys: ', dictionary_of_stuff.keys()\n",
      "\n",
      "## NOTES\n",
      "# Note that these data types are all created with different characters ('()', '[]', '{}')\n",
      "# However, they are all called (accessed) with square brackets '[]'\n",
      "# Tuples are immutable. Try re-assigning an index in an already defined tuple. "
     ],
     "language": "python",
     "metadata": {},
     "outputs": [
      {
       "output_type": "stream",
       "stream": "stdout",
       "text": [
        "<type 'list'>\n",
        "List item:  Banana\n",
        "<type 'tuple'>\n",
        "Tuple item:  Banana\n",
        "<type 'dict'>\n",
        "Dictionary element:  2\n",
        "Dictionary Keys:  ['theta', 'alpha', 'beta', 'gamma', 'delta']\n"
       ]
      }
     ],
     "prompt_number": 41
    },
    {
     "cell_type": "code",
     "collapsed": false,
     "input": [
      "## Dir function\n",
      "# The dir function does lots of useful things. Check out the help. Called without an argument, it prints out names in scope. \n",
      "dir?\n",
      "\n",
      "# Notice above that we called a function directly on our dictionary.\n",
      "# Types and objects (well get to those later) have functions that can be called on them. \n",
      "# Dir with an argument, prints out the attributes & functions of the given object/function/variable\n",
      "dir(dictionary_of_stuff)"
     ],
     "language": "python",
     "metadata": {},
     "outputs": [
      {
       "metadata": {},
       "output_type": "pyout",
       "prompt_number": 42,
       "text": [
        "['__class__',\n",
        " '__cmp__',\n",
        " '__contains__',\n",
        " '__delattr__',\n",
        " '__delitem__',\n",
        " '__doc__',\n",
        " '__eq__',\n",
        " '__format__',\n",
        " '__ge__',\n",
        " '__getattribute__',\n",
        " '__getitem__',\n",
        " '__gt__',\n",
        " '__hash__',\n",
        " '__init__',\n",
        " '__iter__',\n",
        " '__le__',\n",
        " '__len__',\n",
        " '__lt__',\n",
        " '__ne__',\n",
        " '__new__',\n",
        " '__reduce__',\n",
        " '__reduce_ex__',\n",
        " '__repr__',\n",
        " '__setattr__',\n",
        " '__setitem__',\n",
        " '__sizeof__',\n",
        " '__str__',\n",
        " '__subclasshook__',\n",
        " 'clear',\n",
        " 'copy',\n",
        " 'fromkeys',\n",
        " 'get',\n",
        " 'has_key',\n",
        " 'items',\n",
        " 'iteritems',\n",
        " 'iterkeys',\n",
        " 'itervalues',\n",
        " 'keys',\n",
        " 'pop',\n",
        " 'popitem',\n",
        " 'setdefault',\n",
        " 'update',\n",
        " 'values',\n",
        " 'viewitems',\n",
        " 'viewkeys',\n",
        " 'viewvalues']"
       ]
      }
     ],
     "prompt_number": 42
    },
    {
     "cell_type": "markdown",
     "metadata": {},
     "source": [
      "Note that Python is a whitespace language. Spacing matters, and is used to delineate sections of code\n",
      "Unlike matlab, there is no 'end' statement for sections of code. \n",
      "The end of a block of code is marked by the spacing. Lines of code inside a block are tabbed. \n",
      "To open a block of code (in a conditional, loop, function etc.) us the colon (':')"
     ]
    },
    {
     "cell_type": "code",
     "collapsed": false,
     "input": [
      "## Conditionals\n",
      "# Python has an if, elif, else conditional block\n",
      "\n",
      "x = 5\n",
      "if (x > 4):\n",
      "    print 'X is Big!'\n",
      "elif (x < 4):\n",
      "    print 'X is Small!'\n",
      "else:\n",
      "    print 'I don\\'t know what is going on'"
     ],
     "language": "python",
     "metadata": {},
     "outputs": [
      {
       "output_type": "stream",
       "stream": "stdout",
       "text": [
        "X is Big!\n"
       ]
      }
     ],
     "prompt_number": 43
    },
    {
     "cell_type": "code",
     "collapsed": false,
     "input": [
      "## Loops\n",
      "# Python has a for loop and while loop\n",
      "\n",
      "# You can use a loop by running through a list of numbers\n",
      "for x in range(0, 4):\n",
      "    print x\n",
      "\n",
      "print '\\n'        # The '\\' is an escape character in a string. Here, '\\n' prints a new line.\n",
      "    \n",
      "# You can also loop through all the indexes in a variable (for example, loop through a list)    \n",
      "v = ['V1', 'V2', 'V3', 'V4']\n",
      "for i in v:\n",
      "    print i\n",
      "\n",
      "print '\\n'\n",
      "    \n",
      "# The while loop uses a conditional, and will run until it is False\n",
      "y = 1\n",
      "while y < 5:\n",
      "    print y\n",
      "    y += 1         # This is shorthand for 'y = y + 1'"
     ],
     "language": "python",
     "metadata": {},
     "outputs": [
      {
       "output_type": "stream",
       "stream": "stdout",
       "text": [
        "0\n",
        "1\n",
        "2\n",
        "3\n",
        "\n",
        "\n",
        "V1\n",
        "V2\n",
        "V3\n",
        "V4\n",
        "\n",
        "\n",
        "1\n",
        "2\n",
        "3\n",
        "4\n"
       ]
      }
     ],
     "prompt_number": 50
    },
    {
     "cell_type": "code",
     "collapsed": false,
     "input": [
      "## Functions\n",
      "\n",
      "# Example of how functions are set up\n",
      "#\n",
      "# def function_name(input1, input2, ...):\n",
      "#     \"\"\" Docstring - this describes the function\"\"\"\n",
      "#     'code that does stuff'\n",
      "#     return variable_to_return\n",
      "\n",
      "# Example with a real function\n",
      "# \n",
      "def add(a, b):\n",
      "    \"\"\" This function adds two numbers, and returns the result\"\"\"\n",
      "    out = a+b\n",
      "    return out\n",
      "\n",
      "sum_of_numbers = add(4, 5)\n",
      "print sum_of_numbers"
     ],
     "language": "python",
     "metadata": {},
     "outputs": [
      {
       "output_type": "stream",
       "stream": "stdout",
       "text": [
        "9\n"
       ]
      }
     ],
     "prompt_number": 51
    }
   ],
   "metadata": {}
  }
 ]
}