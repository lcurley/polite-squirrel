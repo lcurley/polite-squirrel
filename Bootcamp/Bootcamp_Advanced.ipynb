{
 "metadata": {
  "name": "",
  "signature": "sha256:11c3c5ccf42925d0558e19ea8594a41ae6b79a47fb8ed27e1c5f7c7362f3db77"
 },
 "nbformat": 3,
 "nbformat_minor": 0,
 "worksheets": [
  {
   "cells": [
    {
     "cell_type": "heading",
     "level": 1,
     "metadata": {},
     "source": [
      "Cog-Sci Bootcamp 2015 - iPython Notebook - Intro to Python"
     ]
    },
    {
     "cell_type": "markdown",
     "metadata": {},
     "source": [
      "This iPython Notebook goes through some common packages and more complicated aspects of python. \n",
      "It contains examples and problems to work on. "
     ]
    },
    {
     "cell_type": "code",
     "collapsed": false,
     "input": [
      "# Best practice is to set up all your imports at the top of the script / notebook\n",
      "import numpy as np                  # Numpy is a package for scientific computing (linear algebra) - http://www.numpy.org\n",
      "import scipy as sp                  # Scipy is a package for math, science and engineering - http://www.scipy.org\n",
      "import pandas as pd                 # Pandas is a package for data structures - http://pandas.pydata.org\n",
      "import matplotlib.pyplot as plt     # Matplotlib is a package for plotting - http://matplotlib.org\n",
      "import statsmodels.api as sm        # Stats models is a package for statistics - http://statsmodels.sourceforge.net\n",
      "\n",
      "# This sets a higher resolution for figures\n",
      "%config InlineBackend.figure_format = 'retina'\n",
      "# Pylab: pylab is part of the plotting library matplotlib, and imports matplotlib and numpy packages. \n",
      "# The inline argument makes all your plots appear inline with the notebook\n",
      "%pylab inline\n",
      "# This is a useful tutorial about pylab: http://jakevdp.github.io/mpl_tutorial/tutorial_pages/tut1.html\n",
      "\n",
      "# Note that numpy and matplotlib were redundantly imported here (as they are imported with pylab)"
     ],
     "language": "python",
     "metadata": {},
     "outputs": [
      {
       "output_type": "stream",
       "stream": "stdout",
       "text": [
        "Populating the interactive namespace from numpy and matplotlib\n"
       ]
      }
     ],
     "prompt_number": 89
    },
    {
     "cell_type": "code",
     "collapsed": false,
     "input": [
      "# A package is basically just a collection of functions, grouped together\n",
      "# If you want a list of what's in a function, you should consult the documentation,\n",
      "# A quick check for whats in a package can be done with the dir command\n",
      "dir(np);"
     ],
     "language": "python",
     "metadata": {},
     "outputs": [],
     "prompt_number": 75
    },
    {
     "cell_type": "code",
     "collapsed": false,
     "input": [
      "## Numpy things\n",
      "# Numpy is best for linear algebra, and handling matrix type data\n",
      "\n",
      "# Numpy gives you a new type to work with arrays / vectors / matrices. This is more practical than using lists\n",
      "list_vector = list([1,2,3,4,5])\n",
      "np_vector = np.array([1,2,3,4,5])\n",
      "print 'List vector: ', list_vector, ' is of type ', type(list_vector)\n",
      "print 'Numpy vector: ', np_vector, ' is of type ', type(np_vector), '\\n'\n",
      "\n",
      "# Numpy comes with a set of functions to manipulate these arrays\n",
      "a = np.array([1, 2, 3, 4])\n",
      "b = np.array([5, 6, 7, 8])\n",
      "c = np.concatenate([a, b])\n",
      "print 'Concatenated Vector: ', c\n"
     ],
     "language": "python",
     "metadata": {},
     "outputs": [
      {
       "output_type": "stream",
       "stream": "stdout",
       "text": [
        "List vector:  [1, 2, 3, 4, 5]  is of type  <type 'list'>\n",
        "Numpy vector:  [1 2 3 4 5]  is of type  <type 'numpy.ndarray'> \n",
        "\n",
        "Concatenated Vector:  [1 2 3 4 5 6 7 8]\n"
       ]
      }
     ],
     "prompt_number": 104
    },
    {
     "cell_type": "code",
     "collapsed": false,
     "input": [
      "# Numpy also has functions to create special matrices (just like the matlab ones)\n",
      "zeros_matrix = np.zeros([2, 2])\n",
      "ones_matrix = np.ones([2, 2])\n",
      "\n",
      "print 'Zeros Matrix: \\n', zeros_matrix\n",
      "print 'Ones Matrix: \\n', ones_matrix\n",
      "\n",
      "type(zeros_matrix)\n",
      "\n",
      "summed_matrix = zeros_matrix + ones_matrix\n",
      "multiplied_matrix = zeros_matrix * ones_matrix\n",
      "print 'Summed Matrix: \\n', summed_matrix\n",
      "print 'Multiplied Matrix: \\n', multiplied_matrix"
     ],
     "language": "python",
     "metadata": {},
     "outputs": [
      {
       "output_type": "stream",
       "stream": "stdout",
       "text": [
        "Zeros Matrix: \n",
        "[[ 0.  0.]\n",
        " [ 0.  0.]]\n",
        "Ones Matrix: \n",
        "[[ 1.  1.]\n",
        " [ 1.  1.]]\n",
        "Summed Matrix: \n",
        "[[ 1.  1.]\n",
        " [ 1.  1.]]\n",
        "Multiplied Matrix: \n",
        "[[ 0.  0.]\n",
        " [ 0.  0.]]\n"
       ]
      }
     ],
     "prompt_number": 99
    },
    {
     "cell_type": "code",
     "collapsed": false,
     "input": [
      "# Indexing in Python\n",
      "# Python is a 0-based language. That means that everything starts counting at zero. \n",
      "v = [1, 2, 3, 4]\n",
      "print 'First Index: ', v[0]\n",
      "print 'Second Index: ', v[1]\n",
      "print 'Matrix Index: ', zeros_matrix[0, 0]"
     ],
     "language": "python",
     "metadata": {},
     "outputs": [
      {
       "output_type": "stream",
       "stream": "stdout",
       "text": [
        "First Index:  1\n",
        "Second Index:  2\n",
        "Matrix Index:  0.0\n"
       ]
      }
     ],
     "prompt_number": 101
    },
    {
     "cell_type": "code",
     "collapsed": false,
     "input": [
      "## Example data, plotting\n",
      "# Create a simple sinusoid, and plot it\n",
      "# 1 second of data samples at spacing of 1/1000 seconds\n",
      "t = arange(0, 1, 1.0/1000)\n",
      "# sine wave of 10 Hz\n",
      "s = np.sin(2 * pi * 10 * t)\n",
      "# plot first 20 points of the resulting data\n",
      "figure()\n",
      "plt.plot(s)"
     ],
     "language": "python",
     "metadata": {},
     "outputs": [
      {
       "metadata": {},
       "output_type": "pyout",
       "prompt_number": 103,
       "text": [
        "[<matplotlib.lines.Line2D at 0x10d75bed0>]"
       ]
      },
      {
       "metadata": {
        "png": {
         "height": 255,
         "width": 387
        }
       },
       "output_type": "display_data",
       "png": "[encoded data removed]",
       "text": [
        "<matplotlib.figure.Figure at 0x10ce741d0>"
       ]
      }
     ],
     "prompt_number": 103
    },
    {
     "cell_type": "code",
     "collapsed": false,
     "input": [
      "# Import some data from Stats Models (this lets you access example data, like in R)\n",
      "duncan_prestige = sm.datasets.get_rdataset(\"Duncan\", \"car\")"
     ],
     "language": "python",
     "metadata": {},
     "outputs": [
      {
       "output_type": "stream",
       "stream": "stdout",
       "text": [
        "<class 'statsmodels.datasets.utils.Dataset'>\n",
        "1\n"
       ]
      }
     ],
     "prompt_number": 10
    },
    {
     "cell_type": "code",
     "collapsed": false,
     "input": [
      "# Remember to use the help function to figure out what's going on\n",
      "sm.datasets.get_rdataset?"
     ],
     "language": "python",
     "metadata": {},
     "outputs": [],
     "prompt_number": 18
    },
    {
     "cell_type": "code",
     "collapsed": false,
     "input": [
      "# Check the doc for what we just imported \n",
      "# Remember, if you want to check what attributes an object has, do dir(object)\n",
      "print duncan_prestige.title          # Print the title of the data we just loada\n",
      "print ' '\n",
      "print duncan_prestige.__doc__"
     ],
     "language": "python",
     "metadata": {},
     "outputs": [
      {
       "output_type": "stream",
       "stream": "stdout",
       "text": [
        "Duncan's Occupational Prestige Data\n",
        " \n",
        "+----------+-------------------+\n",
        "| Duncan   | R Documentation   |\n",
        "+----------+-------------------+\n",
        "\n",
        "Duncan's Occupational Prestige Data\n",
        "-----------------------------------\n",
        "\n",
        "Description\n",
        "~~~~~~~~~~~\n",
        "\n",
        "The ``Duncan`` data frame has 45 rows and 4 columns. Data on the\n",
        "prestige and other characteristics of 45 U. S. occupations in 1950.\n",
        "\n",
        "Usage\n",
        "~~~~~\n",
        "\n",
        "::\n",
        "\n",
        "    Duncan\n",
        "\n",
        "Format\n",
        "~~~~~~\n",
        "\n",
        "This data frame contains the following columns:\n",
        "\n",
        "type\n",
        "    Type of occupation. A factor with the following levels: ``prof``,\n",
        "    professional and managerial; ``wc``, white-collar; ``bc``,\n",
        "    blue-collar.\n",
        "\n",
        "income\n",
        "    Percent of males in occupation earning $3500 or more in 1950.\n",
        "\n",
        "education\n",
        "    Percent of males in occupation in 1950 who were high-school\n",
        "    graduates.\n",
        "\n",
        "prestige\n",
        "    Percent of raters in NORC study rating occupation as excellent or\n",
        "    good in prestige.\n",
        "\n",
        "Source\n",
        "~~~~~~\n",
        "\n",
        "Duncan, O. D. (1961) A socioeconomic index for all occupations. In\n",
        "Reiss, A. J., Jr. (Ed.) *Occupations and Social Status.* Free Press\n",
        "[Table VI-1].\n",
        "\n",
        "References\n",
        "~~~~~~~~~~\n",
        "\n",
        "Fox, J. (2008) *Applied Regression Analysis and Generalized Linear\n",
        "Models*, Second Edition. Sage.\n",
        "\n",
        "Fox, J. and Weisberg, S. (2011) *An R Companion to Applied Regression*,\n",
        "Second Edition, Sage.\n",
        "\n"
       ]
      }
     ],
     "prompt_number": 33
    },
    {
     "cell_type": "code",
     "collapsed": false,
     "input": [
      "# The head function lets you print out a defined number of rows of data\n",
      "print duncan_prestige.data.head(10)"
     ],
     "language": "python",
     "metadata": {},
     "outputs": [
      {
       "output_type": "stream",
       "stream": "stdout",
       "text": [
        "            type  income  education  prestige\n",
        "accountant  prof      62         86        82\n",
        "pilot       prof      72         76        83\n",
        "architect   prof      75         92        90\n",
        "author      prof      55         90        76\n",
        "chemist     prof      64         86        90\n",
        "minister    prof      21         84        87\n",
        "professor   prof      64         93        93\n",
        "dentist     prof      80        100        90\n",
        "reporter      wc      67         87        52\n",
        "engineer    prof      72         86        88\n"
       ]
      }
     ],
     "prompt_number": 27
    },
    {
     "cell_type": "code",
     "collapsed": false,
     "input": [
      "dir(duncan_prestige)"
     ],
     "language": "python",
     "metadata": {},
     "outputs": [
      {
       "metadata": {},
       "output_type": "pyout",
       "prompt_number": 28,
       "text": [
        "['__class__',\n",
        " '__cmp__',\n",
        " '__contains__',\n",
        " '__delattr__',\n",
        " '__delitem__',\n",
        " '__dict__',\n",
        " '__doc__',\n",
        " '__eq__',\n",
        " '__format__',\n",
        " '__ge__',\n",
        " '__getattribute__',\n",
        " '__getitem__',\n",
        " '__gt__',\n",
        " '__hash__',\n",
        " '__init__',\n",
        " '__iter__',\n",
        " '__le__',\n",
        " '__len__',\n",
        " '__lt__',\n",
        " '__module__',\n",
        " '__ne__',\n",
        " '__new__',\n",
        " '__reduce__',\n",
        " '__reduce_ex__',\n",
        " '__repr__',\n",
        " '__setattr__',\n",
        " '__setitem__',\n",
        " '__sizeof__',\n",
        " '__str__',\n",
        " '__subclasshook__',\n",
        " '__weakref__',\n",
        " 'clear',\n",
        " 'copy',\n",
        " 'data',\n",
        " 'from_cache',\n",
        " 'fromkeys',\n",
        " 'get',\n",
        " 'has_key',\n",
        " 'items',\n",
        " 'iteritems',\n",
        " 'iterkeys',\n",
        " 'itervalues',\n",
        " 'keys',\n",
        " 'package',\n",
        " 'pop',\n",
        " 'popitem',\n",
        " 'setdefault',\n",
        " 'title',\n",
        " 'update',\n",
        " 'values',\n",
        " 'viewitems',\n",
        " 'viewkeys',\n",
        " 'viewvalues']"
       ]
      }
     ],
     "prompt_number": 28
    },
    {
     "cell_type": "code",
     "collapsed": false,
     "input": [
      "# Make a scatter plot of the data\n",
      "plt.scatter(duncan_prestige.data.education, duncan_prestige.data.income)\n",
      "plt.title('Education vs. Income in Duncan Data')\n",
      "plt.xlabel('Education')\n",
      "plt.ylabel('Income')"
     ],
     "language": "python",
     "metadata": {},
     "outputs": [
      {
       "metadata": {},
       "output_type": "pyout",
       "prompt_number": 47,
       "text": [
        "<matplotlib.text.Text at 0x10ce8d190>"
       ]
      },
      {
       "metadata": {
        "png": {
         "height": 280,
         "width": 388
        }
       },
       "output_type": "display_data",
       "png": "[encoded data removed]",
       "text": [
        "<matplotlib.figure.Figure at 0x10cc70710>"
       ]
      }
     ],
     "prompt_number": 47
    },
    {
     "cell_type": "code",
     "collapsed": false,
     "input": [
      "cor_coef, p_value = sp.stats.stats.pearsonr(duncan_prestige.data.education, duncan_prestige.data.income)\n",
      "print 'The correlation coefficient is: ', cor_coef\n",
      "print 'The p-vaue is: ', p_value, '\\n'\n",
      "\n",
      "if p_value < 0.05:\n",
      "    print 'Woohooo! Victory! It\\'s Significant! Science Accomplished!'\n",
      "else:\n",
      "    print 'Awww....'"
     ],
     "language": "python",
     "metadata": {},
     "outputs": [
      {
       "output_type": "stream",
       "stream": "stdout",
       "text": [
        "The correlation coefficient is:  0.724512356479\n",
        "The p-vaue is:  1.83994641852e-08 \n",
        "\n",
        "Woohooo! Victory! It's Significant! Science Accomplished!\n"
       ]
      }
     ],
     "prompt_number": 58
    },
    {
     "cell_type": "code",
     "collapsed": false,
     "input": [
      "# Programming Challenge - Temperature converter\n",
      "# Write a function that converts between Celsius and Fahrenheit\n",
      "# The formulas for conversion are:\n",
      "#  temp_in_celsius = (5/9) * (temp_in_fahrenheit - 32)\n",
      "#  temp_in_fahrenheit = (9/5) * temp_in_celsius + 32"
     ],
     "language": "python",
     "metadata": {},
     "outputs": []
    }
   ],
   "metadata": {}
  }
 ]
}